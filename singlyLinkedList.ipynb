{
 "cells": [
  {
   "cell_type": "code",
   "execution_count": 4,
   "id": "a1bb1252",
   "metadata": {},
   "outputs": [],
   "source": [
    "# create a singly node\n",
    "class Node:\n",
    "    def __init__(self,data=None,next=None):\n",
    "        self.data = data\n",
    "        self.next = next"
   ]
  },
  {
   "cell_type": "code",
   "execution_count": 5,
   "id": "7857e579",
   "metadata": {},
   "outputs": [],
   "source": [
    "#  create a Linked list of nodes\n",
    "class LinkedList:\n",
    "    def __init__(self):\n",
    "        self.head = None\n",
    "    \n",
    "    def insert_at_first(self,data):\n",
    "        newNode = Node(data,self.head)\n",
    "        self.head = newNode\n",
    "\n",
    "    def printList(self):\n",
    "        if self.head is None:\n",
    "            print(\"List is empty\")\n",
    "        \n",
    "        currentNode = self.head\n",
    "        while currentNode:\n",
    "            print(currentNode.data , end=\"--->\")\n",
    "            currentNode = currentNode.next"
   ]
  },
  {
   "cell_type": "code",
   "execution_count": 6,
   "id": "2fdbf37c",
   "metadata": {},
   "outputs": [
    {
     "name": "stdout",
     "output_type": "stream",
     "text": [
      "65--->43--->2--->"
     ]
    }
   ],
   "source": [
    "# now create lists\n",
    "\n",
    "sl = LinkedList()\n",
    "\n",
    "# insert data at first \n",
    "sl.insert_at_first(2)\n",
    "sl.insert_at_first(43)\n",
    "sl.insert_at_first(65)\n",
    "\n",
    "sl.printList()"
   ]
  }
 ],
 "metadata": {
  "kernelspec": {
   "display_name": "venv",
   "language": "python",
   "name": "python3"
  },
  "language_info": {
   "codemirror_mode": {
    "name": "ipython",
    "version": 3
   },
   "file_extension": ".py",
   "mimetype": "text/x-python",
   "name": "python",
   "nbconvert_exporter": "python",
   "pygments_lexer": "ipython3",
   "version": "3.13.3"
  }
 },
 "nbformat": 4,
 "nbformat_minor": 5
}
