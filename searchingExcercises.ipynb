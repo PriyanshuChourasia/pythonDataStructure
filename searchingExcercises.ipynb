{
 "cells": [
  {
   "cell_type": "code",
   "execution_count": 4,
   "id": "26741653",
   "metadata": {},
   "outputs": [
    {
     "name": "stdout",
     "output_type": "stream",
     "text": [
      "[1, 2, 43, 56, 2, 34]\n",
      "Found: True\n"
     ]
    }
   ],
   "source": [
    "'''\n",
    "    Given an array of integers, write a function to find the index of a target element using linear search.\n",
    "'''\n",
    "len = int(input(\"Enter the size of array: \"))\n",
    "\n",
    "arr = []\n",
    "\n",
    "for i in range(len):\n",
    "    value = int(input(\"Enter data: \"))\n",
    "    arr.append(value)\n",
    "\n",
    "target = int(input(\"Enter your target element\"))\n",
    "found = False\n",
    "\n",
    "for i in range(len):\n",
    "    if arr[i] == target:\n",
    "        found = True\n",
    "        break\n",
    "\n",
    "print(arr)\n",
    "\n",
    "print(f\"Found: {found}\")\n"
   ]
  }
 ],
 "metadata": {
  "kernelspec": {
   "display_name": "venv",
   "language": "python",
   "name": "python3"
  },
  "language_info": {
   "codemirror_mode": {
    "name": "ipython",
    "version": 3
   },
   "file_extension": ".py",
   "mimetype": "text/x-python",
   "name": "python",
   "nbconvert_exporter": "python",
   "pygments_lexer": "ipython3",
   "version": "3.13.3"
  }
 },
 "nbformat": 4,
 "nbformat_minor": 5
}
