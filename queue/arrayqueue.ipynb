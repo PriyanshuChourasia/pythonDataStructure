{
 "cells": [
  {
   "cell_type": "code",
   "execution_count": 3,
   "id": "46a7c7d1",
   "metadata": {},
   "outputs": [
    {
     "name": "stdout",
     "output_type": "stream",
     "text": [
      "Initial Queue\n",
      "['a', 'b', 'c']\n",
      "Elements droped from queue\n",
      "\n",
      "c\n",
      "Queue removed element\n",
      "[]\n"
     ]
    }
   ],
   "source": [
    "#  Implementation using list\n",
    "queue = []\n",
    "queue.append('a')\n",
    "queue.append('b')\n",
    "queue.append('c')\n",
    "print(\"Initial Queue\")\n",
    "print(queue)\n",
    "print(\"Elements droped from queue\\n\")\n",
    "queue.pop(0)\n",
    "queue.pop(0)\n",
    "print(queue.pop(0))\n",
    "print(\"Queue removed element\")\n",
    "print(queue)\n"
   ]
  },
  {
   "cell_type": "code",
   "execution_count": 4,
   "id": "4b3364cd",
   "metadata": {},
   "outputs": [
    {
     "name": "stdout",
     "output_type": "stream",
     "text": [
      "Initial Queue\n",
      "deque(['a', 'b', 'c'])\n",
      "a\n",
      "b\n",
      "c\n",
      "deque([])\n"
     ]
    }
   ],
   "source": [
    "# implementation using collections in python\n",
    "from collections import deque\n",
    "q = deque()\n",
    "q.append('a')\n",
    "q.append('b')\n",
    "q.append('c')\n",
    "print(\"Initial Queue\")\n",
    "print(q)\n",
    "print(q.popleft())\n",
    "print(q.popleft())\n",
    "print(q.popleft())\n",
    "print(q)"
   ]
  },
  {
   "cell_type": "code",
   "execution_count": 8,
   "id": "fe56d572",
   "metadata": {},
   "outputs": [
    {
     "name": "stdout",
     "output_type": "stream",
     "text": [
      "Empty:  True\n",
      "Full:  False\n",
      "a\n",
      "b\n",
      "c\n",
      "d\n",
      "e\n",
      "Empty:  True\n",
      "Full:  False\n"
     ]
    }
   ],
   "source": [
    "# implementation using Queue built in module\n",
    "from queue import Queue\n",
    "q = Queue(maxsize= 5)\n",
    "print(\"Empty: \",q.empty())\n",
    "print(\"Full: \",q.full())\n",
    "\n",
    "q.put('a')\n",
    "\n",
    "q.put('b')\n",
    "q.put('c')\n",
    "q.put('d')\n",
    "q.put('e')\n",
    "\n",
    "print(q.get())\n",
    "print(q.get())\n",
    "print(q.get())\n",
    "print(q.get())\n",
    "# print(q.get())\n",
    "print(q.get_nowait())\n",
    "\n",
    "print(\"Empty: \",q.empty())\n",
    "print(\"Full: \",q.full())\n",
    "\n"
   ]
  }
 ],
 "metadata": {
  "kernelspec": {
   "display_name": "venv",
   "language": "python",
   "name": "python3"
  },
  "language_info": {
   "codemirror_mode": {
    "name": "ipython",
    "version": 3
   },
   "file_extension": ".py",
   "mimetype": "text/x-python",
   "name": "python",
   "nbconvert_exporter": "python",
   "pygments_lexer": "ipython3",
   "version": "3.10.8"
  }
 },
 "nbformat": 4,
 "nbformat_minor": 5
}
