{
 "cells": [
  {
   "cell_type": "code",
   "execution_count": 11,
   "id": "a0a77c1d",
   "metadata": {},
   "outputs": [
    {
     "name": "stdout",
     "output_type": "stream",
     "text": [
      "Sum = 36\n"
     ]
    }
   ],
   "source": [
    "# find a cube upto given natural number\n",
    "\n",
    "num = int(input(\"Enter num: \"))\n",
    "\n",
    "sum = 0\n",
    "\n",
    "for i in range(1,num+1):\n",
    "    k=1\n",
    "    for j in range(0,3):\n",
    "        k = k * i\n",
    "    sum = sum + k\n",
    "\n",
    "print(f\"Sum = {sum}\")"
   ]
  },
  {
   "cell_type": "code",
   "execution_count": 4,
   "id": "5e129f91",
   "metadata": {},
   "outputs": [
    {
     "name": "stdout",
     "output_type": "stream",
     "text": [
      "Sum = 55\n"
     ]
    }
   ],
   "source": [
    "# sum of first 10 natural number\n",
    "\n",
    "sum=0\n",
    "\n",
    "for i in range(1,11):\n",
    "    sum = sum + i\n",
    "\n",
    "print(f\"Sum = {sum}\")"
   ]
  },
  {
   "cell_type": "code",
   "execution_count": 3,
   "id": "8454e4f2",
   "metadata": {},
   "outputs": [
    {
     "name": "stdout",
     "output_type": "stream",
     "text": [
      "1\n",
      "2\n",
      "3\n",
      "4\n",
      "5\n",
      "6\n",
      "7\n",
      "8\n",
      "9\n",
      "10\n"
     ]
    }
   ],
   "source": [
    "# print 10 natural number\n",
    "\n",
    "for i in range(1,11):\n",
    "    print(i)"
   ]
  }
 ],
 "metadata": {
  "kernelspec": {
   "display_name": "venv",
   "language": "python",
   "name": "python3"
  },
  "language_info": {
   "codemirror_mode": {
    "name": "ipython",
    "version": 3
   },
   "file_extension": ".py",
   "mimetype": "text/x-python",
   "name": "python",
   "nbconvert_exporter": "python",
   "pygments_lexer": "ipython3",
   "version": "3.13.3"
  }
 },
 "nbformat": 4,
 "nbformat_minor": 5
}
