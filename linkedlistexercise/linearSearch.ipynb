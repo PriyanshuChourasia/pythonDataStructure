{
 "cells": [
  {
   "cell_type": "code",
   "execution_count": 25,
   "id": "4e702a39",
   "metadata": {},
   "outputs": [],
   "source": [
    "# create a node\n",
    "class Node:\n",
    "    def __init__(self,data=None,next=None):\n",
    "        self.data = data\n",
    "        self.next = None"
   ]
  },
  {
   "cell_type": "code",
   "execution_count": 26,
   "id": "70b98369",
   "metadata": {},
   "outputs": [],
   "source": [
    "class LinkedList:\n",
    "    def __init__(self):\n",
    "        self.head = None\n",
    "\n",
    "    def insert_values(self,data):\n",
    "        newNode = Node(data)\n",
    "        newNode.next = self.head\n",
    "        self.head = newNode\n",
    "\n",
    "    def search_target(self,data):\n",
    "        if self.head is None:\n",
    "            print(\"List is empty\")\n",
    "            return\n",
    "        \n",
    "        currentNode = self.head\n",
    "        found = False\n",
    "        while currentNode:\n",
    "            if currentNode.data == data:\n",
    "                found = True\n",
    "            currentNode = currentNode.next\n",
    "\n",
    "        if found:\n",
    "            print(\"Data is found\")\n",
    "        else:\n",
    "            print(\"Data is not found\")\n",
    "\n",
    "\n",
    "    def printList(self):\n",
    "        if self.head is None:\n",
    "            print(\"List is empty\")\n",
    "            return\n",
    "        \n",
    "        currentNode = self.head\n",
    "        while currentNode:\n",
    "            print(currentNode.data, end=\"--->\")\n",
    "            currentNode = currentNode.next\n",
    "        \n",
    "        print(\"---\")\n"
   ]
  },
  {
   "cell_type": "code",
   "execution_count": 27,
   "id": "e9f787a6",
   "metadata": {},
   "outputs": [
    {
     "name": "stdout",
     "output_type": "stream",
     "text": [
      "15--->1--->49--->48--->47--->46--->45--->---\n",
      "Data is found\n"
     ]
    }
   ],
   "source": [
    "ll = LinkedList()\n",
    "\n",
    "ll.insert_values(45)\n",
    "ll.insert_values(46)\n",
    "ll.insert_values(47)\n",
    "ll.insert_values(48)\n",
    "ll.insert_values(49)\n",
    "ll.insert_values(1)\n",
    "ll.insert_values(15)\n",
    "\n",
    "ll.printList()\n",
    "\n",
    "ll.search_target(47)"
   ]
  }
 ],
 "metadata": {
  "kernelspec": {
   "display_name": "venv",
   "language": "python",
   "name": "python3"
  },
  "language_info": {
   "codemirror_mode": {
    "name": "ipython",
    "version": 3
   },
   "file_extension": ".py",
   "mimetype": "text/x-python",
   "name": "python",
   "nbconvert_exporter": "python",
   "pygments_lexer": "ipython3",
   "version": "3.13.3"
  }
 },
 "nbformat": 4,
 "nbformat_minor": 5
}
