{
 "cells": [
  {
   "cell_type": "code",
   "execution_count": 13,
   "id": "39f5ebf0",
   "metadata": {},
   "outputs": [],
   "source": [
    "class Node:\n",
    "    def __init__(self,data=None,next=None):\n",
    "        self.data = data\n",
    "        self.next = None"
   ]
  },
  {
   "cell_type": "code",
   "execution_count": 14,
   "id": "7439845a",
   "metadata": {},
   "outputs": [],
   "source": [
    "class CircularList:\n",
    "    def __init__(self):\n",
    "        self.head = None\n",
    "        self.tail = None\n",
    "\n",
    "    def insert_first(self,data):\n",
    "        newNode = Node(data)\n",
    "        if self.head is None:\n",
    "            self.head = newNode\n",
    "            self.tail = newNode\n",
    "            return\n",
    "        else:\n",
    "            newNode.next = self.head\n",
    "            self.head = newNode\n",
    "            self.tail.next = newNode\n",
    "\n",
    "    \n",
    "    def printList(self):\n",
    "        if self.head is None:\n",
    "            print(\"List is empty\")\n",
    "            return\n",
    "        \n",
    "        print(self.head.data , end=\"--->\")\n",
    "        temp = self.head.next\n",
    "\n",
    "        while temp != self.head:\n",
    "            print(temp.data,end=\"--->\")\n",
    "            temp = temp.next\n",
    "        \n",
    "        print(temp.data,end=\"\")"
   ]
  },
  {
   "cell_type": "code",
   "execution_count": 15,
   "id": "96116a93",
   "metadata": {},
   "outputs": [
    {
     "name": "stdout",
     "output_type": "stream",
     "text": [
      "37--->36--->35--->34--->37"
     ]
    }
   ],
   "source": [
    "cl = CircularList()\n",
    "cl.insert_first(34)\n",
    "cl.insert_first(35)\n",
    "cl.insert_first(36)\n",
    "cl.insert_first(37)\n",
    "\n",
    "cl.printList()"
   ]
  }
 ],
 "metadata": {
  "kernelspec": {
   "display_name": "venv",
   "language": "python",
   "name": "python3"
  },
  "language_info": {
   "codemirror_mode": {
    "name": "ipython",
    "version": 3
   },
   "file_extension": ".py",
   "mimetype": "text/x-python",
   "name": "python",
   "nbconvert_exporter": "python",
   "pygments_lexer": "ipython3",
   "version": "3.13.3"
  }
 },
 "nbformat": 4,
 "nbformat_minor": 5
}
