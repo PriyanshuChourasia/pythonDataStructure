{
 "cells": [
  {
   "cell_type": "code",
   "execution_count": 6,
   "id": "7e07e4ef",
   "metadata": {},
   "outputs": [
    {
     "name": "stdout",
     "output_type": "stream",
     "text": [
      "6\n",
      "2\n",
      "56\n",
      "2.0\n"
     ]
    }
   ],
   "source": [
    "#  arithmetical operations\n",
    "\n",
    "# add\n",
    "result = 2+4\n",
    "print(result)\n",
    "# substraction\n",
    "minus =  8 - 6\n",
    "print(minus)\n",
    "# multiply\n",
    "mul = 7 * 8\n",
    "print(mul)\n",
    "# divide\n",
    "div = 4 / 2\n",
    "print(div)"
   ]
  },
  {
   "cell_type": "code",
   "execution_count": 2,
   "id": "441ff0f7",
   "metadata": {},
   "outputs": [
    {
     "name": "stdout",
     "output_type": "stream",
     "text": [
      "Hello World\n"
     ]
    }
   ],
   "source": [
    "# Print Heelo World\n",
    "print(\"Hello World\")"
   ]
  }
 ],
 "metadata": {
  "kernelspec": {
   "display_name": "venv",
   "language": "python",
   "name": "python3"
  },
  "language_info": {
   "codemirror_mode": {
    "name": "ipython",
    "version": 3
   },
   "file_extension": ".py",
   "mimetype": "text/x-python",
   "name": "python",
   "nbconvert_exporter": "python",
   "pygments_lexer": "ipython3",
   "version": "3.10.8"
  }
 },
 "nbformat": 4,
 "nbformat_minor": 5
}
