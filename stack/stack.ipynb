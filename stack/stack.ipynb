{
 "cells": [
  {
   "cell_type": "code",
   "execution_count": null,
   "id": "126c1d9f",
   "metadata": {},
   "outputs": [],
   "source": []
  },
  {
   "cell_type": "code",
   "execution_count": 6,
   "id": "7c35b62f",
   "metadata": {},
   "outputs": [
    {
     "name": "stdout",
     "output_type": "stream",
     "text": [
      "Initial Stack\n",
      "deque(['a', 'b', 'c', 'd'])\n",
      "\n",
      " Elements popped from stack\n",
      "d\n",
      "c\n",
      "b\n",
      "deque(['a'])\n",
      "a\n",
      "\n",
      " Stack after elements are popped:\n",
      "deque([])\n"
     ]
    }
   ],
   "source": [
    "# Implementing useing collections.deque\n",
    "\n",
    "from collections import deque\n",
    "\n",
    "stack = deque()\n",
    "\n",
    "stack.append('a')\n",
    "stack.append('b')\n",
    "stack.append('c')\n",
    "stack.append('d')\n",
    "\n",
    "print(\"Initial Stack\")\n",
    "print(stack)\n",
    "\n",
    "\n",
    "print(\"\\n Elements popped from stack\")\n",
    "print(stack.pop())\n",
    "print(stack.pop())\n",
    "print(stack.pop())\n",
    "print(stack)\n",
    "print(stack.pop())\n",
    "\n",
    "print(\"\\n Stack after elements are popped:\")\n",
    "print(stack)"
   ]
  },
  {
   "cell_type": "code",
   "execution_count": 7,
   "id": "97cf16a6",
   "metadata": {},
   "outputs": [
    {
     "name": "stdout",
     "output_type": "stream",
     "text": [
      "Initial stack\n",
      "[1, 2, 3]\n",
      "\n",
      " Elements popped from stack\n",
      "3\n",
      "2\n",
      "1\n",
      "\n",
      " Stack after elements are popped\n",
      "[]\n"
     ]
    }
   ],
   "source": [
    "# Stack implementation using List\n",
    "\n",
    "stack = []\n",
    "\n",
    "stack.append(1)\n",
    "stack.append(2)\n",
    "stack.append(3)\n",
    "\n",
    "print('Initial stack')\n",
    "print(stack)\n",
    "\n",
    "print(\"\\n Elements popped from stack\")\n",
    "print(stack.pop())\n",
    "print(stack.pop())\n",
    "print(stack.pop())\n",
    "\n",
    "\n",
    "print(\"\\n Stack after elements are popped\")\n",
    "print(stack)\n"
   ]
  }
 ],
 "metadata": {
  "kernelspec": {
   "display_name": "venv",
   "language": "python",
   "name": "python3"
  },
  "language_info": {
   "codemirror_mode": {
    "name": "ipython",
    "version": 3
   },
   "file_extension": ".py",
   "mimetype": "text/x-python",
   "name": "python",
   "nbconvert_exporter": "python",
   "pygments_lexer": "ipython3",
   "version": "3.13.3"
  }
 },
 "nbformat": 4,
 "nbformat_minor": 5
}
