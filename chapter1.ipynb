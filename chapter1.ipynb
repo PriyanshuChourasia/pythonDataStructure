{
 "cells": [
  {
   "cell_type": "code",
   "execution_count": 13,
   "id": "e1b8a5a7",
   "metadata": {},
   "outputs": [
    {
     "name": "stdout",
     "output_type": "stream",
     "text": [
      "Number is even\n"
     ]
    }
   ],
   "source": [
    "# check even or odd\n",
    "num = int(input(\"Enter num: \"))\n",
    "\n",
    "if num%2 == 0:\n",
    "    print(\"Number is even\")\n",
    "else:\n",
    "    print(\"Number is odd\")"
   ]
  },
  {
   "cell_type": "code",
   "execution_count": null,
   "id": "b4b1b23d",
   "metadata": {},
   "outputs": [
    {
     "name": "stdout",
     "output_type": "stream",
     "text": [
      "A and B is equal\n"
     ]
    }
   ],
   "source": [
    "# Compare two numbers\n",
    "a = int(input(\"Enter a: \"))\n",
    "b = int(input(\"Enter b: \"))\n",
    "\n",
    "if a > b:\n",
    "    print(\"A is greater than B\")\n",
    "elif b > a:\n",
    "    print(\"B is greater than A\")\n",
    "else:\n",
    "    print(\"A and B is equal\")"
   ]
  }
 ],
 "metadata": {
  "kernelspec": {
   "display_name": "venv",
   "language": "python",
   "name": "python3"
  },
  "language_info": {
   "codemirror_mode": {
    "name": "ipython",
    "version": 3
   },
   "file_extension": ".py",
   "mimetype": "text/x-python",
   "name": "python",
   "nbconvert_exporter": "python",
   "pygments_lexer": "ipython3",
   "version": "3.13.3"
  }
 },
 "nbformat": 4,
 "nbformat_minor": 5
}
