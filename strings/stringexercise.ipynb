{
 "cells": [
  {
   "cell_type": "code",
   "execution_count": 12,
   "id": "244fe023",
   "metadata": {},
   "outputs": [
    {
     "name": "stdout",
     "output_type": "stream",
     "text": [
      "abcing\n"
     ]
    }
   ],
   "source": [
    "# Add ing ly to a string if ing is present add ly and length should be greater than 3\n",
    "\n",
    "def add_string(str1):\n",
    "    length = len(str1)\n",
    "\n",
    "    if length > 2:\n",
    "        if str1[-3:] == \"ing\":\n",
    "            str1 += 'ly'\n",
    "        else:\n",
    "            str1 += 'ing'\n",
    "\n",
    "    return str1\n",
    "\n",
    "\n",
    "print(add_string(\"abc\"))\n"
   ]
  },
  {
   "cell_type": "code",
   "execution_count": null,
   "id": "398874b4",
   "metadata": {},
   "outputs": [],
   "source": [
    "# swap first two chars of first two strings\n",
    "\n",
    "stra = str(input(\"Enter string a: \"))\n",
    "strb = str(input(\"Enter string b: \"))\n",
    "\n",
    "def swap_two_chars(a,b):\n",
    "\n",
    "    new_a = b[:2] + a[2:]\n",
    "\n",
    "    new_b = a[:2] + b[2:]\n",
    "\n",
    "    return new_a + ' ' + new_b\n",
    "\n",
    "print(swap_two_chars(stra,strb))"
   ]
  },
  {
   "cell_type": "code",
   "execution_count": null,
   "id": "37eb3062",
   "metadata": {},
   "outputs": [],
   "source": [
    "# Replace the first occurence with $ sign except its first char itself\n",
    "\n",
    "string = str(input(\"Enter string: \"))\n",
    "\n",
    "def replace_str(str1:str):\n",
    "    char = str1[0]\n",
    "\n",
    "    str1 = str1.replace(char, \"$\")\n",
    "\n",
    "    str1 = char + str1[1:]\n",
    "\n",
    "    return str1\n",
    "\n",
    "print(replace_str(string))"
   ]
  },
  {
   "cell_type": "code",
   "execution_count": null,
   "id": "6d17e088",
   "metadata": {},
   "outputs": [],
   "source": [
    "# Get string first 2 and last 2 characters\n",
    "\n",
    "string = str(input(\"Enter string: \"))\n",
    "\n",
    "def str_first_last(string):\n",
    "    if len(string) < 2:\n",
    "        return ''\n",
    "    \n",
    "    return string[0:2] + string[-2:]\n",
    "\n",
    "print(str_first_last(string))"
   ]
  },
  {
   "cell_type": "code",
   "execution_count": null,
   "id": "6f83a744",
   "metadata": {},
   "outputs": [],
   "source": [
    "string = str(input(\"Enter string: \"))\n",
    "\n",
    "def str_frequency(str1):\n",
    "    for i in range(len(str1)):\n",
    "        count = 1\n",
    "        for j in range(len(str1)):\n",
    "            if str1[i] == str1[j] and i < j:\n",
    "                count = -1\n",
    "                break\n",
    "            elif str1[i] == str1[j] and i>j:\n",
    "                count += 1\n",
    "\n",
    "        if count != -1:\n",
    "            print(str1[i],\": \",count,end=\"\\n\")\n",
    "\n",
    "\n",
    "str_frequency(string)"
   ]
  },
  {
   "cell_type": "code",
   "execution_count": null,
   "id": "7adb8311",
   "metadata": {},
   "outputs": [],
   "source": [
    "#  Calculate the length of string\n",
    "\n",
    "message = str(input(\"Enter message: \"))\n",
    "\n",
    "def str_len(str1:str):\n",
    "    count = 0\n",
    "\n",
    "    for i in str1:\n",
    "        count += 1\n",
    "\n",
    "    return count\n",
    "\n",
    "print(str_len(message))"
   ]
  }
 ],
 "metadata": {
  "kernelspec": {
   "display_name": "venv",
   "language": "python",
   "name": "python3"
  },
  "language_info": {
   "codemirror_mode": {
    "name": "ipython",
    "version": 3
   },
   "file_extension": ".py",
   "mimetype": "text/x-python",
   "name": "python",
   "nbconvert_exporter": "python",
   "pygments_lexer": "ipython3",
   "version": "3.10.8"
  }
 },
 "nbformat": 4,
 "nbformat_minor": 5
}
