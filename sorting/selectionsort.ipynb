{
 "cells": [
  {
   "cell_type": "code",
   "execution_count": 4,
   "id": "bb731b18",
   "metadata": {},
   "outputs": [
    {
     "name": "stdout",
     "output_type": "stream",
     "text": [
      "Unsorted array[65, 25, 12, 22, 11]\n",
      "Sorted array[11, 12, 22, 25, 65]\n"
     ]
    }
   ],
   "source": [
    "arr = [65,25,12,22,11]\n",
    "\n",
    "def selectionsort():\n",
    "\n",
    "    print(\"Unsorted array\",end=\"\")\n",
    "    print(arr)\n",
    "\n",
    "\n",
    "    for i in range(len(arr)):\n",
    "        temp = arr[i]\n",
    "        k=i\n",
    "        for j in range(i+1,len(arr)):\n",
    "            if arr[k] > arr[j]:\n",
    "                k=j\n",
    "        \n",
    "        arr[i] = arr[k]\n",
    "        arr[k] = temp\n",
    "    \n",
    "    print(\"Sorted array\",end=\"\")\n",
    "    print(arr)\n",
    "\n",
    "selectionsort()"
   ]
  }
 ],
 "metadata": {
  "kernelspec": {
   "display_name": "venv",
   "language": "python",
   "name": "python3"
  },
  "language_info": {
   "codemirror_mode": {
    "name": "ipython",
    "version": 3
   },
   "file_extension": ".py",
   "mimetype": "text/x-python",
   "name": "python",
   "nbconvert_exporter": "python",
   "pygments_lexer": "ipython3",
   "version": "3.10.8"
  }
 },
 "nbformat": 4,
 "nbformat_minor": 5
}
