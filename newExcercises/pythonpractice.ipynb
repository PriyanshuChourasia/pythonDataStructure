{
 "cells": [
  {
   "cell_type": "code",
   "execution_count": 15,
   "id": "1641d85a",
   "metadata": {},
   "outputs": [
    {
     "name": "stdout",
     "output_type": "stream",
     "text": [
      "Two complex roots:  (-0.75+1.1989578808281798j) (-0.75-1.1989578808281798j)\n"
     ]
    }
   ],
   "source": [
    "import cmath\n",
    "\n",
    "a=float(input(\"Enter a: \"))\n",
    "b=float(input(\"Enter b: \"))\n",
    "c=float(input(\"Enter c: \"))\n",
    "\n",
    "# calculate the discriminant\n",
    "D=b**2 - 4*a*c\n",
    "\n",
    "\n",
    "if D > 0:\n",
    "    root1 = (-b + D**0.5) / (2*a)\n",
    "    root2 = (-b - D**0.5) / (2*a)\n",
    "    print(\"Two real roots: \",root1,root2)\n",
    "elif D == 0:\n",
    "    root = -b / (2*a)\n",
    "    print(\"One real root: \",root)\n",
    "else:\n",
    "    root1 = (-b + cmath.sqrt(D)) / (2*a)\n",
    "    root2 = (-b - cmath.sqrt(D)) / (2*a)\n",
    "    print(\"Two complex roots: \",root1,root2)"
   ]
  },
  {
   "cell_type": "code",
   "execution_count": 14,
   "id": "b4de9172",
   "metadata": {},
   "outputs": [
    {
     "name": "stdout",
     "output_type": "stream",
     "text": [
      "Area of triangle with three sides:  6.0\n"
     ]
    }
   ],
   "source": [
    "import math\n",
    "\n",
    "a=int(input(\"Enter a: \"))\n",
    "b=int(input(\"Enter b: \"))\n",
    "c=int(input(\"Enter c: \"))\n",
    "\n",
    "s = (a+b+c) / 2 # semi perimeter\n",
    "area = math.sqrt(s*(s-a)*(s-b)*(s-c))\n",
    "print(\"Area of triangle with three sides: \",area)"
   ]
  },
  {
   "cell_type": "code",
   "execution_count": 13,
   "id": "2562b963",
   "metadata": {},
   "outputs": [
    {
     "name": "stdout",
     "output_type": "stream",
     "text": [
      "Area of triangle with three sides:  2.9047375096555625\n"
     ]
    }
   ],
   "source": [
    "import math\n",
    "\n",
    "a = int(input(\"Enter a: \"))\n",
    "b = int(input(\"Enter b: \"))\n",
    "c = int(input(\"Enter c: \"))\n",
    "\n",
    "s= (a+b+c) / 2 #semi perimeter\n",
    "area = math.sqrt(s*(s-a)*(s-b)*(s-c))\n",
    "print(\"Area of triangle with three sides: \",area)"
   ]
  },
  {
   "cell_type": "code",
   "execution_count": 12,
   "id": "07d9b3d6",
   "metadata": {},
   "outputs": [
    {
     "name": "stdout",
     "output_type": "stream",
     "text": [
      "Area of triangle:  9.0\n"
     ]
    }
   ],
   "source": [
    "base=int(input(\"Enter base: \"))\n",
    "height=int(input(\"Enter height: \"))\n",
    "\n",
    "area = 0.5 * base+height\n",
    "print(\"Area of triangle: \",area)"
   ]
  },
  {
   "cell_type": "code",
   "execution_count": 10,
   "id": "6bfa3fe4",
   "metadata": {},
   "outputs": [
    {
     "name": "stdout",
     "output_type": "stream",
     "text": [
      "Quotient:  2.0\n",
      "Floor qoutient:  2\n",
      "Reaminder:  0\n",
      "numa to power numb:  2985984\n"
     ]
    }
   ],
   "source": [
    "numa=int(input(\"Enter num a: \"))\n",
    "numb=int(input(\"Enter num b: \"))\n",
    "\n",
    "print(\"Quotient: \",numa / numb)\n",
    "print(\"Floor qoutient: \",numa // numb)\n",
    "print(\"Reaminder: \",numa % numb)\n",
    "print(\"numa to power numb: \",numa ** numb)"
   ]
  },
  {
   "cell_type": "code",
   "execution_count": 8,
   "id": "924bbe21",
   "metadata": {},
   "outputs": [
    {
     "name": "stdout",
     "output_type": "stream",
     "text": [
      "18\n",
      "72\n",
      "6\n",
      "2.0\n",
      "0\n"
     ]
    }
   ],
   "source": [
    "numa=int(input(\"Enter num a: \"))\n",
    "numb=int(input(\"Enter num b: \"))\n",
    "\n",
    "add = numa + numb\n",
    "print(add,end=\"\\n\")\n",
    "mul= numa * numb\n",
    "print(mul,end=\"\\n\")\n",
    "diff = numa - numb\n",
    "print(diff,end=\"\\n\")\n",
    "quo = numa / numb\n",
    "print(quo)\n",
    "remainder = numa % numb\n",
    "print(remainder)\n"
   ]
  },
  {
   "cell_type": "code",
   "execution_count": 6,
   "id": "6ab265e0",
   "metadata": {},
   "outputs": [
    {
     "name": "stdout",
     "output_type": "stream",
     "text": [
      "Hello\n",
      "Python\n",
      "HelloPython\n"
     ]
    }
   ],
   "source": [
    "print(\"Hello\\n\",\"Python\",sep=\"\", end=\"\\n\")\n",
    "print(\"Hello\"+\"Python\")"
   ]
  },
  {
   "cell_type": "code",
   "execution_count": null,
   "id": "2bf2f225",
   "metadata": {},
   "outputs": [],
   "source": [
    "print(\"Hello Python\")"
   ]
  }
 ],
 "metadata": {
  "kernelspec": {
   "display_name": "venv",
   "language": "python",
   "name": "python3"
  },
  "language_info": {
   "codemirror_mode": {
    "name": "ipython",
    "version": 3
   },
   "file_extension": ".py",
   "mimetype": "text/x-python",
   "name": "python",
   "nbconvert_exporter": "python",
   "pygments_lexer": "ipython3",
   "version": "3.10.10"
  }
 },
 "nbformat": 4,
 "nbformat_minor": 5
}
