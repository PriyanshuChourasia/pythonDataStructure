{
 "cells": [
  {
   "cell_type": "code",
   "execution_count": 11,
   "id": "0118d58d",
   "metadata": {},
   "outputs": [],
   "source": [
    "class Node: \n",
    "    def __init__(self,data:int):\n",
    "        self.data = data\n",
    "        self.next = None"
   ]
  },
  {
   "cell_type": "code",
   "execution_count": 12,
   "id": "758de456",
   "metadata": {},
   "outputs": [
    {
     "name": "stdout",
     "output_type": "stream",
     "text": [
      "26 --->25 --->24 --->23 --->NULL\n"
     ]
    }
   ],
   "source": [
    "\n",
    "\n",
    "class LinkedList:\n",
    "    \n",
    "    def __init__(self):\n",
    "        self.head = None\n",
    "\n",
    "    def insert_at_head(self,data:int):\n",
    "        newNode = Node(data)\n",
    "        newNode.next = self.head\n",
    "        self.head = newNode\n",
    "\n",
    "    def display_list(self):\n",
    "        curr:Node = self.head\n",
    "\n",
    "        while(curr != None):\n",
    "            print(f\"{curr.data} --->\",end=\"\")\n",
    "            curr = curr.next\n",
    "\n",
    "        print(\"NULL\")\n",
    "\n",
    "\n",
    "\n",
    "ll = LinkedList()\n",
    "ll.insert_at_head(23)\n",
    "ll.insert_at_head(24)\n",
    "ll.insert_at_head(25)\n",
    "ll.insert_at_head(26)\n",
    "\n",
    "ll.display_list()"
   ]
  }
 ],
 "metadata": {
  "kernelspec": {
   "display_name": "venv",
   "language": "python",
   "name": "python3"
  },
  "language_info": {
   "codemirror_mode": {
    "name": "ipython",
    "version": 3
   },
   "file_extension": ".py",
   "mimetype": "text/x-python",
   "name": "python",
   "nbconvert_exporter": "python",
   "pygments_lexer": "ipython3",
   "version": "3.10.10"
  }
 },
 "nbformat": 4,
 "nbformat_minor": 5
}
