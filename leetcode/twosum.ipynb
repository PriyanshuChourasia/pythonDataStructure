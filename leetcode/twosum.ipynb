{
 "cells": [
  {
   "cell_type": "code",
   "execution_count": 16,
   "id": "139bad5e",
   "metadata": {},
   "outputs": [
    {
     "name": "stdout",
     "output_type": "stream",
     "text": [
      "[0, 1]\n",
      "[1, 2]\n",
      "[0, 1]\n"
     ]
    }
   ],
   "source": [
    "# two sum find the indexs which require to equals target\n",
    "\n",
    "num1 = [2,7,11,15]\n",
    "target1 = 9\n",
    "num2  = [3,2,4]\n",
    "target2 = 6\n",
    "num3 = [3,3]\n",
    "target3 = 6\n",
    "\n",
    "def twoSum(num,target):\n",
    "    indexs = []\n",
    "    for i in range(len(num)):\n",
    "        for j in range(i+1,len(num)):\n",
    "            if num[i] + num[j] == target:\n",
    "                indexs.append(i)\n",
    "                indexs.append(j)\n",
    "                break\n",
    "\n",
    "    return indexs\n",
    "\n",
    "result = twoSum(num1,target1)\n",
    "result2 = twoSum(num2,target2)\n",
    "result3 = twoSum(num3,target3)\n",
    "print(result)\n",
    "print(result2)\n",
    "print(result3)"
   ]
  }
 ],
 "metadata": {
  "kernelspec": {
   "display_name": "venv",
   "language": "python",
   "name": "python3"
  },
  "language_info": {
   "codemirror_mode": {
    "name": "ipython",
    "version": 3
   },
   "file_extension": ".py",
   "mimetype": "text/x-python",
   "name": "python",
   "nbconvert_exporter": "python",
   "pygments_lexer": "ipython3",
   "version": "3.13.3"
  }
 },
 "nbformat": 4,
 "nbformat_minor": 5
}
