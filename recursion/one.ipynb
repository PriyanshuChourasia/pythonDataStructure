{
 "cells": [
  {
   "cell_type": "code",
   "execution_count": null,
   "id": "dd69abd0",
   "metadata": {},
   "outputs": [],
   "source": [
    "# Chai aur code recursion 1 to n sum"
   ]
  },
  {
   "cell_type": "code",
   "execution_count": 2,
   "id": "6affe7cc",
   "metadata": {},
   "outputs": [
    {
     "name": "stdout",
     "output_type": "stream",
     "text": [
      "Total sum:  15\n"
     ]
    }
   ],
   "source": [
    "# sum of numbers 1 to n\n",
    "num=int(input(\"Enter num: \"))\n",
    "\n",
    "total=0\n",
    "\n",
    "def recurse_sum(num):\n",
    "    if num == 0:\n",
    "        return\n",
    "    \n",
    "    global total\n",
    "    total = num + total\n",
    "    recurse_sum(num = num - 1)\n",
    "\n",
    "recurse_sum(num)\n",
    "print(\"Total sum: \",total)"
   ]
  },
  {
   "cell_type": "code",
   "execution_count": 3,
   "id": "3354febe",
   "metadata": {},
   "outputs": [
    {
     "name": "stdout",
     "output_type": "stream",
     "text": [
      "6\n",
      "5\n",
      "4\n",
      "3\n",
      "2\n",
      "1\n"
     ]
    }
   ],
   "source": [
    "def printNumbers(Lrange,Urange):\n",
    "    if Lrange > Urange:\n",
    "        return\n",
    "    \n",
    "    printNumbers(Lrange+1,Urange)\n",
    "    print(Lrange)\n",
    "\n",
    "printNumbers(1,6)"
   ]
  }
 ],
 "metadata": {
  "kernelspec": {
   "display_name": "venv",
   "language": "python",
   "name": "python3"
  },
  "language_info": {
   "codemirror_mode": {
    "name": "ipython",
    "version": 3
   },
   "file_extension": ".py",
   "mimetype": "text/x-python",
   "name": "python",
   "nbconvert_exporter": "python",
   "pygments_lexer": "ipython3",
   "version": "3.10.8"
  }
 },
 "nbformat": 4,
 "nbformat_minor": 5
}
