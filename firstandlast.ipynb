{
 "cells": [
  {
   "cell_type": "code",
   "execution_count": 4,
   "id": "beff5e13",
   "metadata": {},
   "outputs": [
    {
     "name": "stdout",
     "output_type": "stream",
     "text": [
      "[234, 81, 67, 67, 54, 54, 34, 34, 25, 23, 12, 2, 2, 2, 1, 1, 1, 1, 1, 1]\n"
     ]
    }
   ],
   "source": [
    "bubblearr = [1,34,54,23,67,81,12,1,25,54,1,234,1,2,1,67,34,2,1,2]\n",
    "\n",
    "for i in range(len(bubblearr)):\n",
    "    for j in range(len(bubblearr)):\n",
    "        if bubblearr[i] > bubblearr[j]:\n",
    "            temp = bubblearr[i]\n",
    "            bubblearr[i] = bubblearr[j]\n",
    "            bubblearr[j] = temp\n",
    "\n",
    "print(bubblearr)"
   ]
  }
 ],
 "metadata": {
  "kernelspec": {
   "display_name": "venv",
   "language": "python",
   "name": "python3"
  },
  "language_info": {
   "codemirror_mode": {
    "name": "ipython",
    "version": 3
   },
   "file_extension": ".py",
   "mimetype": "text/x-python",
   "name": "python",
   "nbconvert_exporter": "python",
   "pygments_lexer": "ipython3",
   "version": "3.13.3"
  }
 },
 "nbformat": 4,
 "nbformat_minor": 5
}
